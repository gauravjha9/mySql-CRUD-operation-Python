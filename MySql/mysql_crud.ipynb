{
 "cells": [
  {
   "cell_type": "markdown",
   "metadata": {},
   "source": [
    "## Crud (create, read, update, delete) Operations"
   ]
  },
  {
   "cell_type": "code",
   "execution_count": 2,
   "metadata": {},
   "outputs": [],
   "source": [
    "# Create connection\n",
    "\n",
    "import pymysql\n",
    "\n",
    "con = pymysql.connect(host='localhost', user='root', passwd='', db='test')\n",
    "cur = con.cursor()"
   ]
  },
  {
   "cell_type": "markdown",
   "metadata": {},
   "source": [
    "### Create Database"
   ]
  },
  {
   "cell_type": "code",
   "execution_count": 6,
   "metadata": {},
   "outputs": [
    {
     "data": {
      "text/plain": [
       "1"
      ]
     },
     "execution_count": 6,
     "metadata": {},
     "output_type": "execute_result"
    }
   ],
   "source": [
    "# create database\n",
    "\n",
    "q = 'create database test'\n",
    "# q = 'create database if not exists test'\n",
    "cur.execute(q)"
   ]
  },
  {
   "cell_type": "markdown",
   "metadata": {},
   "source": [
    "### Create Table"
   ]
  },
  {
   "cell_type": "code",
   "execution_count": 9,
   "metadata": {},
   "outputs": [
    {
     "data": {
      "text/plain": [
       "0"
      ]
     },
     "execution_count": 9,
     "metadata": {},
     "output_type": "execute_result"
    }
   ],
   "source": [
    "# create table\n",
    "\n",
    "q = 'create table student(id int primary key, name varchar(30), prog_lang  varchar(30))'\n",
    "cur.execute(q)"
   ]
  },
  {
   "cell_type": "markdown",
   "metadata": {},
   "source": [
    "### Insert Data into table"
   ]
  },
  {
   "cell_type": "code",
   "execution_count": 11,
   "metadata": {},
   "outputs": [
    {
     "data": {
      "text/plain": [
       "1"
      ]
     },
     "execution_count": 11,
     "metadata": {},
     "output_type": "execute_result"
    }
   ],
   "source": [
    "# insert data into table\n",
    "\n",
    "q = 'insert into student(id, name, prog_lang) values(1, \"Garry Gill\", \"Python\")'\n",
    "cur.execute(q)"
   ]
  },
  {
   "cell_type": "code",
   "execution_count": 12,
   "metadata": {},
   "outputs": [
    {
     "data": {
      "text/plain": [
       "4"
      ]
     },
     "execution_count": 12,
     "metadata": {},
     "output_type": "execute_result"
    }
   ],
   "source": [
    "# insert multiple values\n",
    "\n",
    "q = 'insert into student(id, name, prog_lang) values(2, \"Ramesh Prasad\", \"php\"), (3, \"Chaman Sharma\", \"Java\"), \\\n",
    "    (4, \"Baljeet Singh\", \"C\"), (5, \"Navneet Kaur\", \"Java\")'\n",
    "cur.execute(q)"
   ]
  },
  {
   "cell_type": "code",
   "execution_count": 13,
   "metadata": {},
   "outputs": [],
   "source": [
    "# to save data into database\n",
    "\n",
    "con.commit()"
   ]
  },
  {
   "cell_type": "markdown",
   "metadata": {},
   "source": [
    "### Read Data from Table"
   ]
  },
  {
   "cell_type": "code",
   "execution_count": 34,
   "metadata": {},
   "outputs": [
    {
     "data": {
      "text/plain": [
       "5"
      ]
     },
     "execution_count": 34,
     "metadata": {},
     "output_type": "execute_result"
    }
   ],
   "source": [
    "# read data (how many row present)\n",
    "\n",
    "cur.execute('select * from student')"
   ]
  },
  {
   "cell_type": "code",
   "execution_count": 21,
   "metadata": {},
   "outputs": [
    {
     "name": "stdout",
     "output_type": "stream",
     "text": [
      "(1, 'Garry Gill', 'Python')\n"
     ]
    }
   ],
   "source": [
    "# fetch one row\n",
    "\n",
    "cur.execute('select * from student')\n",
    "data = cur.fetchone()\n",
    "print(data)"
   ]
  },
  {
   "cell_type": "code",
   "execution_count": 25,
   "metadata": {},
   "outputs": [
    {
     "name": "stdout",
     "output_type": "stream",
     "text": [
      "(2, 'Ramesh Prasad', 'php')\n"
     ]
    }
   ],
   "source": [
    "# fetch next row\n",
    "\n",
    "data = cur.fetchone()\n",
    "print(data)"
   ]
  },
  {
   "cell_type": "code",
   "execution_count": 32,
   "metadata": {},
   "outputs": [
    {
     "name": "stdout",
     "output_type": "stream",
     "text": [
      "((1, 'Garry Gill', 'Python'), (2, 'Ramesh Prasad', 'php'), (3, 'Chaman Sharma', 'Java'))\n"
     ]
    }
   ],
   "source": [
    "# fetch multiple row\n",
    "\n",
    "cur.execute('select * from student')\n",
    "data = cur.fetchmany(3)\n",
    "print(data)"
   ]
  },
  {
   "cell_type": "code",
   "execution_count": 33,
   "metadata": {},
   "outputs": [
    {
     "name": "stdout",
     "output_type": "stream",
     "text": [
      "((4, 'Baljeet Singh', 'C'), (5, 'Navneet Kaur', 'Java'))\n"
     ]
    }
   ],
   "source": [
    "# fetch next after 3 row\n",
    "\n",
    "# cur.execute('select * from student')\n",
    "data = cur.fetchmany(3)\n",
    "print(data)"
   ]
  },
  {
   "cell_type": "code",
   "execution_count": null,
   "metadata": {},
   "outputs": [],
   "source": []
  },
  {
   "cell_type": "code",
   "execution_count": 41,
   "metadata": {},
   "outputs": [
    {
     "name": "stdout",
     "output_type": "stream",
     "text": [
      "(1, 'Garry Gill', 'Python')\n",
      "(2, 'Ramesh Prasad', 'php')\n",
      "(3, 'Chaman Sharma', 'Java')\n",
      "(4, 'Baljeet Singh', 'C')\n",
      "(5, 'Navneet Kaur', 'Java')\n"
     ]
    }
   ],
   "source": [
    "# fetch all data (row)\n",
    "cur.execute('select * from student')\n",
    "data = cur.fetchall()\n",
    "# print(data)\n",
    "\n",
    "for i in data:\n",
    "    print(i)"
   ]
  },
  {
   "cell_type": "markdown",
   "metadata": {},
   "source": [
    "### where clause"
   ]
  },
  {
   "cell_type": "code",
   "execution_count": 3,
   "metadata": {},
   "outputs": [
    {
     "name": "stdout",
     "output_type": "stream",
     "text": [
      "((3, 'Chaman Sharma', 'Java'), (5, 'Navneet Kaur', 'Java'))\n"
     ]
    }
   ],
   "source": [
    "# where\n",
    "\n",
    "cur.execute('select * from student where prog_lang = \"Java\"')\n",
    "data = cur.fetchall()\n",
    "print(data)"
   ]
  },
  {
   "cell_type": "code",
   "execution_count": 4,
   "metadata": {},
   "outputs": [
    {
     "name": "stdout",
     "output_type": "stream",
     "text": [
      "((3, 'Chaman Sharma', 'Java'), (5, 'Navneet Kaur', 'Java'))\n"
     ]
    }
   ],
   "source": [
    "# like\n",
    "\n",
    "cur.execute('select * from student where prog_lang like \"J%\"')\n",
    "data = cur.fetchall()\n",
    "print(data)"
   ]
  },
  {
   "cell_type": "code",
   "execution_count": 5,
   "metadata": {},
   "outputs": [
    {
     "name": "stdout",
     "output_type": "stream",
     "text": [
      "((1, 'Garry Gill', 'Python'), (2, 'Ramesh Prasad', 'php'))\n"
     ]
    }
   ],
   "source": [
    "# like\n",
    "\n",
    "cur.execute('select * from student where prog_lang like \"p%\"')\n",
    "data = cur.fetchall()\n",
    "print(data)"
   ]
  },
  {
   "cell_type": "code",
   "execution_count": null,
   "metadata": {},
   "outputs": [],
   "source": []
  },
  {
   "cell_type": "markdown",
   "metadata": {},
   "source": [
    "### Update"
   ]
  },
  {
   "cell_type": "code",
   "execution_count": 7,
   "metadata": {},
   "outputs": [
    {
     "name": "stdout",
     "output_type": "stream",
     "text": [
      "(1, 'Garry Gill', 'Python')\n",
      "(2, 'Ramesh Prasad', 'php')\n",
      "(3, 'Chaman Sharma', 'Java')\n",
      "(4, 'Baljeet Singh', 'C')\n",
      "(5, 'Navneet Kaur', 'Java')\n"
     ]
    }
   ],
   "source": [
    "cur.execute('select * from student')\n",
    "data = cur.fetchall()\n",
    "\n",
    "for i in data:\n",
    "    print(i)"
   ]
  },
  {
   "cell_type": "code",
   "execution_count": 8,
   "metadata": {},
   "outputs": [],
   "source": [
    "cur.execute('update student set name= \"Akku\" where prog_lang = \"C\"')\n",
    "con.commit()"
   ]
  },
  {
   "cell_type": "code",
   "execution_count": 9,
   "metadata": {},
   "outputs": [
    {
     "name": "stdout",
     "output_type": "stream",
     "text": [
      "(1, 'Garry Gill', 'Python')\n",
      "(2, 'Ramesh Prasad', 'php')\n",
      "(3, 'Chaman Sharma', 'Java')\n",
      "(4, 'Akku', 'C')\n",
      "(5, 'Navneet Kaur', 'Java')\n"
     ]
    }
   ],
   "source": [
    "cur.execute('select * from student')\n",
    "data = cur.fetchall()\n",
    "\n",
    "for i in data:\n",
    "    print(i)"
   ]
  },
  {
   "cell_type": "code",
   "execution_count": null,
   "metadata": {},
   "outputs": [],
   "source": []
  },
  {
   "cell_type": "markdown",
   "metadata": {},
   "source": [
    "### Delete"
   ]
  },
  {
   "cell_type": "code",
   "execution_count": 11,
   "metadata": {},
   "outputs": [],
   "source": [
    "cur.execute('delete from student where id=2')\n",
    "con.commit()"
   ]
  },
  {
   "cell_type": "code",
   "execution_count": 12,
   "metadata": {},
   "outputs": [
    {
     "name": "stdout",
     "output_type": "stream",
     "text": [
      "(1, 'Garry Gill', 'Python')\n",
      "(3, 'Chaman Sharma', 'Java')\n",
      "(4, 'Akku', 'C')\n",
      "(5, 'Navneet Kaur', 'Java')\n"
     ]
    }
   ],
   "source": [
    "cur.execute('select * from student')\n",
    "data = cur.fetchall()\n",
    "for i in data:\n",
    "    print(i)"
   ]
  },
  {
   "cell_type": "code",
   "execution_count": null,
   "metadata": {},
   "outputs": [],
   "source": []
  }
 ],
 "metadata": {
  "kernelspec": {
   "display_name": "Python 3",
   "language": "python",
   "name": "python3"
  },
  "language_info": {
   "codemirror_mode": {
    "name": "ipython",
    "version": 3
   },
   "file_extension": ".py",
   "mimetype": "text/x-python",
   "name": "python",
   "nbconvert_exporter": "python",
   "pygments_lexer": "ipython3",
   "version": "3.8.5"
  }
 },
 "nbformat": 4,
 "nbformat_minor": 4
}
